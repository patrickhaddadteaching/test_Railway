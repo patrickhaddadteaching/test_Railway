{
  "nbformat": 4,
  "nbformat_minor": 0,
  "metadata": {
    "colab": {
      "name": "codepin1_binder.ipynb",
      "provenance": []
    },
    "kernelspec": {
      "name": "python3",
      "display_name": "Python 3"
    },
    "language_info": {
      "name": "python"
    }
  },
  "cells": [
    {
      "cell_type": "code",
      "metadata": {
        "id": "Z-ZN7GtarraM"
      },
      "source": [
        "from os import system\n",
        "try:\n",
        "    import google.colab\n",
        "    IN_COLAB = True\n",
        "except:\n",
        "    IN_COLAB = False    \n",
        "if IN_COLAB:\n",
        "    print('NOTEBOOK RUNNING ON COLAB')\n",
        "    system('wget https://github.com/patrickhaddadteaching/codepin1/raw/main/exopin1_src.py')"
      ],
      "execution_count": null,
      "outputs": []
    },
    {
      "cell_type": "code",
      "metadata": {
        "id": "kJy3t_nVx3f0"
      },
      "source": [
        "from exopin1_src import *\n",
        "display(v_box_top)"
      ],
      "execution_count": null,
      "outputs": []
    }
  ]
}